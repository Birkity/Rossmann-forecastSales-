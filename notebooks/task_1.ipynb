{
 "cells": [
  {
   "cell_type": "code",
   "execution_count": null,
   "metadata": {},
   "outputs": [],
   "source": []
  },
  {
   "cell_type": "code",
   "execution_count": 3,
   "metadata": {},
   "outputs": [],
   "source": [
    "import pandas as pd\n",
    "import numpy as np\n",
    "import matplotlib.pyplot as plt\n",
    "import seaborn as sns\n",
    "import logging\n",
    "import os\n",
    "\n",
    "current_directory = os.getcwd()\n",
    "log_file_path = os.path.join(current_directory, 'week_4.log')\n",
    "logging.basicConfig(filename=log_file_path, level=logging.INFO, \n",
    "                    format='%(asctime)s - %(levelname)s - %(message)s')\n",
    "\n",
    "logging.info('Libraries imported successfully.')\n",
    "\n",
    "logging.info('Imported libraries are ready for use.')\n"
   ]
  },
  {
   "cell_type": "markdown",
   "metadata": {},
   "source": [
    "Data Loading and Initial Exploration"
   ]
  },
  {
   "cell_type": "code",
   "execution_count": 7,
   "metadata": {},
   "outputs": [
    {
     "name": "stderr",
     "output_type": "stream",
     "text": [
      "C:\\Users\\USER\\AppData\\Local\\Temp\\ipykernel_19540\\3317785883.py:1: DtypeWarning: Columns (7) have mixed types. Specify dtype option on import or set low_memory=False.\n",
      "  train_data = pd.read_csv('../../doc4/rossmann-store-sales/train.csv')\n"
     ]
    },
    {
     "name": "stdout",
     "output_type": "stream",
     "text": [
      "Store                             0\n",
      "DayOfWeek                         0\n",
      "Date                              0\n",
      "Sales                             0\n",
      "Customers                         0\n",
      "Open                              0\n",
      "Promo                             0\n",
      "StateHoliday                      0\n",
      "SchoolHoliday                     0\n",
      "StoreType                         0\n",
      "Assortment                        0\n",
      "CompetitionDistance            2642\n",
      "CompetitionOpenSinceMonth    323348\n",
      "CompetitionOpenSinceYear     323348\n",
      "Promo2                            0\n",
      "Promo2SinceWeek              508031\n",
      "Promo2SinceYear              508031\n",
      "PromoInterval                508031\n",
      "dtype: int64\n",
      "Id                               0\n",
      "Store                            0\n",
      "DayOfWeek                        0\n",
      "Date                             0\n",
      "Open                            11\n",
      "Promo                            0\n",
      "StateHoliday                     0\n",
      "SchoolHoliday                    0\n",
      "StoreType                        0\n",
      "Assortment                       0\n",
      "CompetitionDistance             96\n",
      "CompetitionOpenSinceMonth    15216\n",
      "CompetitionOpenSinceYear     15216\n",
      "Promo2                           0\n",
      "Promo2SinceWeek              17232\n",
      "Promo2SinceYear              17232\n",
      "PromoInterval                17232\n",
      "dtype: int64\n"
     ]
    },
    {
     "name": "stderr",
     "output_type": "stream",
     "text": [
      "C:\\Users\\USER\\AppData\\Local\\Temp\\ipykernel_19540\\3317785883.py:15: FutureWarning: DataFrame.fillna with 'method' is deprecated and will raise in a future version. Use obj.ffill() or obj.bfill() instead.\n",
      "  train_merged.fillna(method='ffill', inplace=True)\n",
      "C:\\Users\\USER\\AppData\\Local\\Temp\\ipykernel_19540\\3317785883.py:16: FutureWarning: DataFrame.fillna with 'method' is deprecated and will raise in a future version. Use obj.ffill() or obj.bfill() instead.\n",
      "  test_merged.fillna(method='ffill', inplace=True)\n"
     ]
    }
   ],
   "source": [
    "\n",
    "train_data = pd.read_csv('../../doc4/rossmann-store-sales/train.csv')\n",
    "test_data = pd.read_csv('../../doc4/rossmann-store-sales/test.csv')\n",
    "store_data = pd.read_csv('../../doc4/rossmann-store-sales/store.csv')\n",
    "\n",
    "logging.info('Datasets loaded successfully.')\n",
    "\n",
    "train_merged = pd.merge(train_data, store_data, how='left', on='Store')\n",
    "test_merged = pd.merge(test_data, store_data, how='left', on='Store')\n",
    "\n",
    "logging.info('Train and Test datasets merged with store data.')\n",
    "\n",
    "print(train_merged.isna().sum())\n",
    "print(test_merged.isna().sum())\n",
    "\n",
    "train_merged.fillna(method='ffill', inplace=True)\n",
    "test_merged.fillna(method='ffill', inplace=True)\n",
    "logging.info('Filled missing values using forward fill.')\n",
    "\n"
   ]
  },
  {
   "cell_type": "markdown",
   "metadata": {},
   "source": [
    "Check Distribution of Promotions in Training and Test Sets"
   ]
  },
  {
   "cell_type": "code",
   "execution_count": 9,
   "metadata": {},
   "outputs": [
    {
     "data": {
      "image/png": "[encoded data removed]",
      "text/plain": [
       "<Figure size 1200x600 with 1 Axes>"
      ]
     },
     "metadata": {},
     "output_type": "display_data"
    },
    {
     "name": "stdout",
     "output_type": "stream",
     "text": [
      "\n",
      "Train Set Promo Distribution:\n",
      "Promo\n",
      "0    0.618485\n",
      "1    0.381515\n",
      "Name: proportion, dtype: float64\n",
      "\n",
      "Test Set Promo Distribution:\n",
      "Promo\n",
      "0    0.604167\n",
      "1    0.395833\n",
      "Name: proportion, dtype: float64\n",
      "\n",
      "Mean of Promo in Train Set: 0.38\n",
      "Median of Promo in Train Set: 0.00\n",
      "\n",
      "Mean of Promo in Test Set: 0.40\n",
      "Median of Promo in Test Set: 0.00\n"
     ]
    }
   ],
   "source": [
    "import pandas as pd\n",
    "import matplotlib.pyplot as plt\n",
    "import seaborn as sns\n",
    "import logging\n",
    "\n",
    "\n",
    "train_promo_dist = train_merged['Promo'].value_counts(normalize=True)\n",
    "test_promo_dist = test_merged['Promo'].value_counts(normalize=True)\n",
    "\n",
    "logging.info('Promo distribution checked in both training and test datasets.')\n",
    "\n",
    "\n",
    "plt.figure(figsize=(12,6))  \n",
    "sns.barplot(x=train_promo_dist.index, y=train_promo_dist.values, alpha=0.7, label='Train Set')\n",
    "sns.barplot(x=test_promo_dist.index, y=test_promo_dist.values, alpha=0.7, label='Test Set', color='orange')\n",
    "plt.title('Promo Distribution in Train and Test Sets')\n",
    "plt.xlabel('Promotion Type')  \n",
    "plt.ylabel('Normalized Frequency')  \n",
    "plt.legend()\n",
    "plt.show()\n",
    "\n",
    "logging.info('Promo distribution comparison plot created.')\n",
    "\n",
    "print(\"\\nTrain Set Promo Distribution:\")\n",
    "print(train_promo_dist)\n",
    "print(\"\\nTest Set Promo Distribution:\")\n",
    "print(test_promo_dist)\n",
    "\n",
    "train_mean = train_merged['Promo'].mean()\n",
    "train_median = train_merged['Promo'].median()\n",
    "\n",
    "test_mean = test_merged['Promo'].mean()\n",
    "test_median = test_merged['Promo'].median()\n",
    "\n",
    "print(f\"\\nMean of Promo in Train Set: {train_mean:.2f}\")\n",
    "print(f\"Median of Promo in Train Set: {train_median:.2f}\")\n",
    "print(f\"\\nMean of Promo in Test Set: {test_mean:.2f}\")\n",
    "print(f\"Median of Promo in Test Set: {test_median:.2f}\")\n",
    "\n",
    "logging.info('Additional numerical analysis completed.')\n"
   ]
  }
 ],
 "metadata": {
  "kernelspec": {
   "display_name": "venv",
   "language": "python",
   "name": "python3"
  },
  "language_info": {
   "codemirror_mode": {
    "name": "ipython",
    "version": 3
   },
   "file_extension": ".py",
   "mimetype": "text/x-python",
   "name": "python",
   "nbconvert_exporter": "python",
   "pygments_lexer": "ipython3",
   "version": "3.11.2"
  }
 },
 "nbformat": 4,
 "nbformat_minor": 2
}
