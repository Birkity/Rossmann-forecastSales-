{
 "cells": [
  {
   "cell_type": "markdown",
   "metadata": {},
   "source": [
    "2.1 Preprocessing"
   ]
  },
  {
   "cell_type": "code",
   "execution_count": 4,
   "metadata": {},
   "outputs": [
    {
     "name": "stderr",
     "output_type": "stream",
     "text": [
      "C:\\Users\\USER\\AppData\\Local\\Temp\\ipykernel_26068\\1626751758.py:15: DtypeWarning: Columns (7) have mixed types. Specify dtype option on import or set low_memory=False.\n",
      "  train = pd.read_csv('../../doc4/rossmann-store-sales/train.csv', parse_dates=['Date'])\n"
     ]
    }
   ],
   "source": [
    "import pandas as pd\n",
    "import numpy as np\n",
    "import logging\n",
    "from sklearn.model_selection import train_test_split\n",
    "from sklearn.preprocessing import StandardScaler\n",
    "from sklearn.impute import SimpleImputer\n",
    "import logging\n",
    "import os\n",
    "\n",
    "current_directory = os.getcwd()\n",
    "log_file_path = os.path.join(current_directory, 'task_1.log')\n",
    "logging.basicConfig(filename=log_file_path, level=logging.INFO, \n",
    "                    format='%(asctime)s - %(levelname)s - %(message)s')\n",
    "\n",
    "train = pd.read_csv('../../doc4/rossmann-store-sales/train.csv', parse_dates=['Date'])\n",
    "store = pd.read_csv('../../doc4/rossmann-store-sales/store.csv')\n",
    "\n",
    "train_merged = pd.merge(train, store, on='Store', how='left')\n",
    "logging.info('Merged train and store datasets.')\n",
    "\n",
    "\n",
    "imputer = SimpleImputer(strategy='median')\n",
    "train_merged['CompetitionDistance'] = imputer.fit_transform(train_merged[['CompetitionDistance']])\n",
    "train_merged['Promo2SinceYear'] = imputer.fit_transform(train_merged[['Promo2SinceYear']])\n",
    "train_merged.fillna(0, inplace=True)  \n",
    "logging.info('Handled missing values in the dataset.')\n",
    "\n",
    "\n",
    "train_merged['Day'] = train_merged['Date'].dt.day\n",
    "train_merged['Month'] = train_merged['Date'].dt.month\n",
    "train_merged['Year'] = train_merged['Date'].dt.year\n",
    "train_merged['WeekOfYear'] = train_merged['Date'].dt.isocalendar().week\n",
    "train_merged['Weekday'] = train_merged['Date'].dt.weekday\n",
    "train_merged['Weekend'] = train_merged['Weekday'].apply(lambda x: 1 if x >= 5 else 0)\n",
    "\n",
    "\n",
    "train_merged['IsHoliday'] = np.where((train_merged['StateHoliday'] != '0'), 1, 0)\n",
    "train_merged['DaysToHoliday'] = (pd.to_datetime('2023-12-25') - train_merged['Date']).dt.days\n",
    "train_merged['StartMidEndMonth'] = pd.cut(train_merged['Day'], bins=[0, 10, 20, 31], labels=['Start', 'Mid', 'End'])\n",
    "\n",
    "logging.info('Extracted features from date columns.')\n",
    "\n",
    "\n",
    "train_merged = pd.get_dummies(train_merged, columns=['StoreType', 'Assortment', 'PromoInterval', 'StateHoliday', 'StartMidEndMonth'], drop_first=True)\n",
    "logging.info('Converted categorical columns to numeric.')\n",
    "\n",
    "\n",
    "features = train_merged.drop(['Sales', 'Customers', 'Date'], axis=1)\n",
    "target = train_merged['Sales']\n",
    "\n",
    "scaler = StandardScaler()\n",
    "X_scaled = scaler.fit_transform(features)\n",
    "logging.info('Scaled features using StandardScaler.')\n",
    "\n",
    "\n",
    "X_train, X_test, y_train, y_test = train_test_split(X_scaled, target, test_size=0.2, random_state=42)\n",
    "logging.info('Performed train-test split.')"
   ]
  }
 ],
 "metadata": {
  "kernelspec": {
   "display_name": "venv",
   "language": "python",
   "name": "python3"
  },
  "language_info": {
   "codemirror_mode": {
    "name": "ipython",
    "version": 3
   },
   "file_extension": ".py",
   "mimetype": "text/x-python",
   "name": "python",
   "nbconvert_exporter": "python",
   "pygments_lexer": "ipython3",
   "version": "3.11.2"
  }
 },
 "nbformat": 4,
 "nbformat_minor": 2
}
